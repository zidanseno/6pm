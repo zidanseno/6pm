{
  "cells": [
    {
      "cell_type": "markdown",
      "metadata": {
        "id": "view-in-github",
        "colab_type": "text"
      },
      "source": [
        "<a href=\"https://colab.research.google.com/github/zidanseno/6pm/blob/main/goji.ipynb\" target=\"_parent\"><img src=\"https://colab.research.google.com/assets/colab-badge.svg\" alt=\"Open In Colab\"/></a>"
      ]
    },
    {
      "cell_type": "markdown",
      "metadata": {
        "id": "-osUn0NWCTWV"
      },
      "source": [
        "**Resources**\n",
        "1.   [Multilabel Classification (Image)](https://github.com/ashrefm/multi-label-soft-f1/blob/master/Multi-Label%20Image%20Classification%20in%20TensorFlow%202.0.ipynb)\n",
        "2.   [Preprocessing Layers (Tensorflow)](https://www.tensorflow.org/tutorials/structured_data/preprocessing_layers)\n",
        "3. [Preprocessing Layers (Keras)](https://keras.io/examples/structured_data/structured_data_classification_from_scratch/)\n",
        "\n",
        "\n"
      ]
    },
    {
      "cell_type": "code",
      "execution_count": null,
      "metadata": {
        "id": "lULlPEvBe_T2"
      },
      "outputs": [],
      "source": [
        "import pandas as pd\n",
        "import tensorflow as tf\n",
        "import gdown\n",
        "import numpy as np\n",
        "\n",
        "from sklearn.model_selection import train_test_split\n",
        "from sklearn.preprocessing import MultiLabelBinarizer\n",
        "from tensorflow.keras import layers"
      ]
    },
    {
      "cell_type": "code",
      "execution_count": null,
      "metadata": {
        "colab": {
          "base_uri": "https://localhost:8080/",
          "height": 275
        },
        "id": "PUL7yPCqZ1rI",
        "outputId": "400bfa08-9dd3-440f-fda0-b8a407786935"
      },
      "outputs": [
        {
          "output_type": "stream",
          "name": "stderr",
          "text": [
            "Downloading...\n",
            "From: https://drive.google.com/uc?id=1ekxGO1sbSWooxw0wvRv5sL-2P5f82hUU\n",
            "To: /content/datadummy_new_grouped.csv\n",
            "100%|██████████| 135k/135k [00:00<00:00, 85.6MB/s]\n"
          ]
        },
        {
          "output_type": "execute_result",
          "data": {
            "text/plain": [
              "   Unnamed: 0 Project Type          Topics           Sub Topic  Difficulty  \\\n",
              "0           0    Front End       Front End            Ember.js           9   \n",
              "1           1           ML  Speech / Audio  Speech Recognition           8   \n",
              "2           2           ML             NLP  Sentiment Analysis          23   \n",
              "3           3           ML             NLP  Sentiment Analysis          19   \n",
              "4           4    Front End       Front End             Angular           7   \n",
              "\n",
              "                                             Workers  \n",
              "0  ['Iga Narendra Pramawijaya', 'Muhammad Raden S...  \n",
              "1  ['I Putu Ranantha Nugraha Suparta', 'Putu Gede...  \n",
              "2  ['Alvin Tan', 'Bagja Kurniadi', 'Sarah Sema Kh...  \n",
              "3  ['Bagja Kurniadi', 'Alvin Tan', 'Sarah Sema Kh...  \n",
              "4                  ['Andi Rezal Oktavianto', 'Imam']  "
            ],
            "text/html": [
              "\n",
              "  <div id=\"df-64c66e05-5761-447f-8ed0-752a4ccb627b\">\n",
              "    <div class=\"colab-df-container\">\n",
              "      <div>\n",
              "<style scoped>\n",
              "    .dataframe tbody tr th:only-of-type {\n",
              "        vertical-align: middle;\n",
              "    }\n",
              "\n",
              "    .dataframe tbody tr th {\n",
              "        vertical-align: top;\n",
              "    }\n",
              "\n",
              "    .dataframe thead th {\n",
              "        text-align: right;\n",
              "    }\n",
              "</style>\n",
              "<table border=\"1\" class=\"dataframe\">\n",
              "  <thead>\n",
              "    <tr style=\"text-align: right;\">\n",
              "      <th></th>\n",
              "      <th>Unnamed: 0</th>\n",
              "      <th>Project Type</th>\n",
              "      <th>Topics</th>\n",
              "      <th>Sub Topic</th>\n",
              "      <th>Difficulty</th>\n",
              "      <th>Workers</th>\n",
              "    </tr>\n",
              "  </thead>\n",
              "  <tbody>\n",
              "    <tr>\n",
              "      <th>0</th>\n",
              "      <td>0</td>\n",
              "      <td>Front End</td>\n",
              "      <td>Front End</td>\n",
              "      <td>Ember.js</td>\n",
              "      <td>9</td>\n",
              "      <td>['Iga Narendra Pramawijaya', 'Muhammad Raden S...</td>\n",
              "    </tr>\n",
              "    <tr>\n",
              "      <th>1</th>\n",
              "      <td>1</td>\n",
              "      <td>ML</td>\n",
              "      <td>Speech / Audio</td>\n",
              "      <td>Speech Recognition</td>\n",
              "      <td>8</td>\n",
              "      <td>['I Putu Ranantha Nugraha Suparta', 'Putu Gede...</td>\n",
              "    </tr>\n",
              "    <tr>\n",
              "      <th>2</th>\n",
              "      <td>2</td>\n",
              "      <td>ML</td>\n",
              "      <td>NLP</td>\n",
              "      <td>Sentiment Analysis</td>\n",
              "      <td>23</td>\n",
              "      <td>['Alvin Tan', 'Bagja Kurniadi', 'Sarah Sema Kh...</td>\n",
              "    </tr>\n",
              "    <tr>\n",
              "      <th>3</th>\n",
              "      <td>3</td>\n",
              "      <td>ML</td>\n",
              "      <td>NLP</td>\n",
              "      <td>Sentiment Analysis</td>\n",
              "      <td>19</td>\n",
              "      <td>['Bagja Kurniadi', 'Alvin Tan', 'Sarah Sema Kh...</td>\n",
              "    </tr>\n",
              "    <tr>\n",
              "      <th>4</th>\n",
              "      <td>4</td>\n",
              "      <td>Front End</td>\n",
              "      <td>Front End</td>\n",
              "      <td>Angular</td>\n",
              "      <td>7</td>\n",
              "      <td>['Andi Rezal Oktavianto', 'Imam']</td>\n",
              "    </tr>\n",
              "  </tbody>\n",
              "</table>\n",
              "</div>\n",
              "      <button class=\"colab-df-convert\" onclick=\"convertToInteractive('df-64c66e05-5761-447f-8ed0-752a4ccb627b')\"\n",
              "              title=\"Convert this dataframe to an interactive table.\"\n",
              "              style=\"display:none;\">\n",
              "        \n",
              "  <svg xmlns=\"http://www.w3.org/2000/svg\" height=\"24px\"viewBox=\"0 0 24 24\"\n",
              "       width=\"24px\">\n",
              "    <path d=\"M0 0h24v24H0V0z\" fill=\"none\"/>\n",
              "    <path d=\"M18.56 5.44l.94 2.06.94-2.06 2.06-.94-2.06-.94-.94-2.06-.94 2.06-2.06.94zm-11 1L8.5 8.5l.94-2.06 2.06-.94-2.06-.94L8.5 2.5l-.94 2.06-2.06.94zm10 10l.94 2.06.94-2.06 2.06-.94-2.06-.94-.94-2.06-.94 2.06-2.06.94z\"/><path d=\"M17.41 7.96l-1.37-1.37c-.4-.4-.92-.59-1.43-.59-.52 0-1.04.2-1.43.59L10.3 9.45l-7.72 7.72c-.78.78-.78 2.05 0 2.83L4 21.41c.39.39.9.59 1.41.59.51 0 1.02-.2 1.41-.59l7.78-7.78 2.81-2.81c.8-.78.8-2.07 0-2.86zM5.41 20L4 18.59l7.72-7.72 1.47 1.35L5.41 20z\"/>\n",
              "  </svg>\n",
              "      </button>\n",
              "      \n",
              "  <style>\n",
              "    .colab-df-container {\n",
              "      display:flex;\n",
              "      flex-wrap:wrap;\n",
              "      gap: 12px;\n",
              "    }\n",
              "\n",
              "    .colab-df-convert {\n",
              "      background-color: #E8F0FE;\n",
              "      border: none;\n",
              "      border-radius: 50%;\n",
              "      cursor: pointer;\n",
              "      display: none;\n",
              "      fill: #1967D2;\n",
              "      height: 32px;\n",
              "      padding: 0 0 0 0;\n",
              "      width: 32px;\n",
              "    }\n",
              "\n",
              "    .colab-df-convert:hover {\n",
              "      background-color: #E2EBFA;\n",
              "      box-shadow: 0px 1px 2px rgba(60, 64, 67, 0.3), 0px 1px 3px 1px rgba(60, 64, 67, 0.15);\n",
              "      fill: #174EA6;\n",
              "    }\n",
              "\n",
              "    [theme=dark] .colab-df-convert {\n",
              "      background-color: #3B4455;\n",
              "      fill: #D2E3FC;\n",
              "    }\n",
              "\n",
              "    [theme=dark] .colab-df-convert:hover {\n",
              "      background-color: #434B5C;\n",
              "      box-shadow: 0px 1px 3px 1px rgba(0, 0, 0, 0.15);\n",
              "      filter: drop-shadow(0px 1px 2px rgba(0, 0, 0, 0.3));\n",
              "      fill: #FFFFFF;\n",
              "    }\n",
              "  </style>\n",
              "\n",
              "      <script>\n",
              "        const buttonEl =\n",
              "          document.querySelector('#df-64c66e05-5761-447f-8ed0-752a4ccb627b button.colab-df-convert');\n",
              "        buttonEl.style.display =\n",
              "          google.colab.kernel.accessAllowed ? 'block' : 'none';\n",
              "\n",
              "        async function convertToInteractive(key) {\n",
              "          const element = document.querySelector('#df-64c66e05-5761-447f-8ed0-752a4ccb627b');\n",
              "          const dataTable =\n",
              "            await google.colab.kernel.invokeFunction('convertToInteractive',\n",
              "                                                     [key], {});\n",
              "          if (!dataTable) return;\n",
              "\n",
              "          const docLinkHtml = 'Like what you see? Visit the ' +\n",
              "            '<a target=\"_blank\" href=https://colab.research.google.com/notebooks/data_table.ipynb>data table notebook</a>'\n",
              "            + ' to learn more about interactive tables.';\n",
              "          element.innerHTML = '';\n",
              "          dataTable['output_type'] = 'display_data';\n",
              "          await google.colab.output.renderOutput(dataTable, element);\n",
              "          const docLink = document.createElement('div');\n",
              "          docLink.innerHTML = docLinkHtml;\n",
              "          element.appendChild(docLink);\n",
              "        }\n",
              "      </script>\n",
              "    </div>\n",
              "  </div>\n",
              "  "
            ]
          },
          "metadata": {},
          "execution_count": 2
        }
      ],
      "source": [
        "# Preparing the pandas dataframe\n",
        "\n",
        "id = \"1ekxGO1sbSWooxw0wvRv5sL-2P5f82hUU\"\n",
        "output = \"datadummy_new_grouped.csv\"\n",
        "gdown.download(id=id, output=output, quiet=False)\n",
        "\n",
        "df = pd.read_csv(f\"/content/{output}\")\n",
        "df.head()"
      ]
    },
    {
      "cell_type": "code",
      "execution_count": null,
      "metadata": {
        "colab": {
          "base_uri": "https://localhost:8080/",
          "height": 206
        },
        "id": "g-84lXSmKGG3",
        "outputId": "25a52179-6d2d-475b-dd75-4af3c8d61037"
      },
      "outputs": [
        {
          "output_type": "execute_result",
          "data": {
            "text/plain": [
              "  Project Type          Topics           Sub Topic  Difficulty  \\\n",
              "0    Front End       Front End            Ember.js           9   \n",
              "1           ML  Speech / Audio  Speech Recognition           8   \n",
              "2           ML             NLP  Sentiment Analysis          23   \n",
              "3           ML             NLP  Sentiment Analysis          19   \n",
              "4    Front End       Front End             Angular           7   \n",
              "\n",
              "                                             Workers  \n",
              "0  [Iga Narendra Pramawijaya, Muhammad Raden Syaw...  \n",
              "1  [I Putu Ranantha Nugraha Suparta, Putu Gede Ag...  \n",
              "2  [Alvin Tan, Bagja Kurniadi, Sarah Sema Khairun...  \n",
              "3  [Bagja Kurniadi, Alvin Tan, Sarah Sema Khairun...  \n",
              "4                      [Andi Rezal Oktavianto, Imam]  "
            ],
            "text/html": [
              "\n",
              "  <div id=\"df-55d2b578-c9f5-4600-89ac-c09415828f71\">\n",
              "    <div class=\"colab-df-container\">\n",
              "      <div>\n",
              "<style scoped>\n",
              "    .dataframe tbody tr th:only-of-type {\n",
              "        vertical-align: middle;\n",
              "    }\n",
              "\n",
              "    .dataframe tbody tr th {\n",
              "        vertical-align: top;\n",
              "    }\n",
              "\n",
              "    .dataframe thead th {\n",
              "        text-align: right;\n",
              "    }\n",
              "</style>\n",
              "<table border=\"1\" class=\"dataframe\">\n",
              "  <thead>\n",
              "    <tr style=\"text-align: right;\">\n",
              "      <th></th>\n",
              "      <th>Project Type</th>\n",
              "      <th>Topics</th>\n",
              "      <th>Sub Topic</th>\n",
              "      <th>Difficulty</th>\n",
              "      <th>Workers</th>\n",
              "    </tr>\n",
              "  </thead>\n",
              "  <tbody>\n",
              "    <tr>\n",
              "      <th>0</th>\n",
              "      <td>Front End</td>\n",
              "      <td>Front End</td>\n",
              "      <td>Ember.js</td>\n",
              "      <td>9</td>\n",
              "      <td>[Iga Narendra Pramawijaya, Muhammad Raden Syaw...</td>\n",
              "    </tr>\n",
              "    <tr>\n",
              "      <th>1</th>\n",
              "      <td>ML</td>\n",
              "      <td>Speech / Audio</td>\n",
              "      <td>Speech Recognition</td>\n",
              "      <td>8</td>\n",
              "      <td>[I Putu Ranantha Nugraha Suparta, Putu Gede Ag...</td>\n",
              "    </tr>\n",
              "    <tr>\n",
              "      <th>2</th>\n",
              "      <td>ML</td>\n",
              "      <td>NLP</td>\n",
              "      <td>Sentiment Analysis</td>\n",
              "      <td>23</td>\n",
              "      <td>[Alvin Tan, Bagja Kurniadi, Sarah Sema Khairun...</td>\n",
              "    </tr>\n",
              "    <tr>\n",
              "      <th>3</th>\n",
              "      <td>ML</td>\n",
              "      <td>NLP</td>\n",
              "      <td>Sentiment Analysis</td>\n",
              "      <td>19</td>\n",
              "      <td>[Bagja Kurniadi, Alvin Tan, Sarah Sema Khairun...</td>\n",
              "    </tr>\n",
              "    <tr>\n",
              "      <th>4</th>\n",
              "      <td>Front End</td>\n",
              "      <td>Front End</td>\n",
              "      <td>Angular</td>\n",
              "      <td>7</td>\n",
              "      <td>[Andi Rezal Oktavianto, Imam]</td>\n",
              "    </tr>\n",
              "  </tbody>\n",
              "</table>\n",
              "</div>\n",
              "      <button class=\"colab-df-convert\" onclick=\"convertToInteractive('df-55d2b578-c9f5-4600-89ac-c09415828f71')\"\n",
              "              title=\"Convert this dataframe to an interactive table.\"\n",
              "              style=\"display:none;\">\n",
              "        \n",
              "  <svg xmlns=\"http://www.w3.org/2000/svg\" height=\"24px\"viewBox=\"0 0 24 24\"\n",
              "       width=\"24px\">\n",
              "    <path d=\"M0 0h24v24H0V0z\" fill=\"none\"/>\n",
              "    <path d=\"M18.56 5.44l.94 2.06.94-2.06 2.06-.94-2.06-.94-.94-2.06-.94 2.06-2.06.94zm-11 1L8.5 8.5l.94-2.06 2.06-.94-2.06-.94L8.5 2.5l-.94 2.06-2.06.94zm10 10l.94 2.06.94-2.06 2.06-.94-2.06-.94-.94-2.06-.94 2.06-2.06.94z\"/><path d=\"M17.41 7.96l-1.37-1.37c-.4-.4-.92-.59-1.43-.59-.52 0-1.04.2-1.43.59L10.3 9.45l-7.72 7.72c-.78.78-.78 2.05 0 2.83L4 21.41c.39.39.9.59 1.41.59.51 0 1.02-.2 1.41-.59l7.78-7.78 2.81-2.81c.8-.78.8-2.07 0-2.86zM5.41 20L4 18.59l7.72-7.72 1.47 1.35L5.41 20z\"/>\n",
              "  </svg>\n",
              "      </button>\n",
              "      \n",
              "  <style>\n",
              "    .colab-df-container {\n",
              "      display:flex;\n",
              "      flex-wrap:wrap;\n",
              "      gap: 12px;\n",
              "    }\n",
              "\n",
              "    .colab-df-convert {\n",
              "      background-color: #E8F0FE;\n",
              "      border: none;\n",
              "      border-radius: 50%;\n",
              "      cursor: pointer;\n",
              "      display: none;\n",
              "      fill: #1967D2;\n",
              "      height: 32px;\n",
              "      padding: 0 0 0 0;\n",
              "      width: 32px;\n",
              "    }\n",
              "\n",
              "    .colab-df-convert:hover {\n",
              "      background-color: #E2EBFA;\n",
              "      box-shadow: 0px 1px 2px rgba(60, 64, 67, 0.3), 0px 1px 3px 1px rgba(60, 64, 67, 0.15);\n",
              "      fill: #174EA6;\n",
              "    }\n",
              "\n",
              "    [theme=dark] .colab-df-convert {\n",
              "      background-color: #3B4455;\n",
              "      fill: #D2E3FC;\n",
              "    }\n",
              "\n",
              "    [theme=dark] .colab-df-convert:hover {\n",
              "      background-color: #434B5C;\n",
              "      box-shadow: 0px 1px 3px 1px rgba(0, 0, 0, 0.15);\n",
              "      filter: drop-shadow(0px 1px 2px rgba(0, 0, 0, 0.3));\n",
              "      fill: #FFFFFF;\n",
              "    }\n",
              "  </style>\n",
              "\n",
              "      <script>\n",
              "        const buttonEl =\n",
              "          document.querySelector('#df-55d2b578-c9f5-4600-89ac-c09415828f71 button.colab-df-convert');\n",
              "        buttonEl.style.display =\n",
              "          google.colab.kernel.accessAllowed ? 'block' : 'none';\n",
              "\n",
              "        async function convertToInteractive(key) {\n",
              "          const element = document.querySelector('#df-55d2b578-c9f5-4600-89ac-c09415828f71');\n",
              "          const dataTable =\n",
              "            await google.colab.kernel.invokeFunction('convertToInteractive',\n",
              "                                                     [key], {});\n",
              "          if (!dataTable) return;\n",
              "\n",
              "          const docLinkHtml = 'Like what you see? Visit the ' +\n",
              "            '<a target=\"_blank\" href=https://colab.research.google.com/notebooks/data_table.ipynb>data table notebook</a>'\n",
              "            + ' to learn more about interactive tables.';\n",
              "          element.innerHTML = '';\n",
              "          dataTable['output_type'] = 'display_data';\n",
              "          await google.colab.output.renderOutput(dataTable, element);\n",
              "          const docLink = document.createElement('div');\n",
              "          docLink.innerHTML = docLinkHtml;\n",
              "          element.appendChild(docLink);\n",
              "        }\n",
              "      </script>\n",
              "    </div>\n",
              "  </div>\n",
              "  "
            ]
          },
          "metadata": {},
          "execution_count": 3
        }
      ],
      "source": [
        "# Cleaning the unused columns\n",
        "df = df.drop(df.columns[[0]], axis=1)\n",
        "\n",
        "# Transform 'Workers' from strings into lists\n",
        "df['Workers'] = df['Workers'].str.replace(\"[\\'\\[\\]]\",\"\",regex=True)\n",
        "df['Workers'] = df['Workers'].str.replace(\", \",\"|\",regex=True)\n",
        "df['Workers'] = df['Workers'].apply(lambda s: [l for l in str(s).split('|')])\n",
        "df.head()"
      ]
    },
    {
      "cell_type": "code",
      "source": [
        "# Transform other columns into strings\n",
        "string_col = ['Topics', 'Sub Topic', 'Project Type']\n",
        "\n",
        "for i in string_col:\n",
        "    df[i] = df[i].astype(\"string\")\n",
        "df.info()"
      ],
      "metadata": {
        "colab": {
          "base_uri": "https://localhost:8080/"
        },
        "id": "dOwQkxCJoC7B",
        "outputId": "495d4c95-2d4e-4ace-89ca-b1d9fed45de2"
      },
      "execution_count": null,
      "outputs": [
        {
          "output_type": "stream",
          "name": "stdout",
          "text": [
            "<class 'pandas.core.frame.DataFrame'>\n",
            "RangeIndex: 1000 entries, 0 to 999\n",
            "Data columns (total 5 columns):\n",
            " #   Column        Non-Null Count  Dtype \n",
            "---  ------        --------------  ----- \n",
            " 0   Project Type  1000 non-null   string\n",
            " 1   Topics        1000 non-null   string\n",
            " 2   Sub Topic     1000 non-null   string\n",
            " 3   Difficulty    1000 non-null   int64 \n",
            " 4   Workers       1000 non-null   object\n",
            "dtypes: int64(1), object(1), string(3)\n",
            "memory usage: 39.2+ KB\n"
          ]
        }
      ]
    },
    {
      "cell_type": "code",
      "execution_count": null,
      "metadata": {
        "colab": {
          "base_uri": "https://localhost:8080/"
        },
        "id": "ErsB_KQixsyA",
        "outputId": "66e71898-0830-41d4-e5d4-616d27117d58"
      },
      "outputs": [
        {
          "output_type": "stream",
          "name": "stdout",
          "text": [
            "0. Abdullah Nur Hudi\n",
            "1. Abiyyu Diora Haqi\n",
            "2. Alvin Tan\n",
            "3. Andhika Zulfikri\n",
            "4. Andi Rezal Oktavianto\n",
            "5. Azis Sofyanto\n",
            "6. Bagja Kurniadi\n",
            "7. Chairul Rizqi\n",
            "8. Christopher Kristianto\n",
            "9. Farel Eden\n",
            "10. Gabriel Kheisa\n",
            "11. I Putu Ranantha Nugraha Suparta\n",
            "12. Iga Narendra Pramawijaya\n",
            "13. Imam\n",
            "14. Muhammad Raden Syawali Akbar\n",
            "15. Nyoman Satiya Najwa Sadha\n",
            "16. Putu Gede Agung Karna Sampalan\n",
            "17. Rikip Ginanjar\n",
            "18. Sandrian Yulianto\n",
            "19. Sarah Sema Khairunisa\n",
            "20. Suci Rahmadani\n",
            "21. Vania Kylie\n",
            "22. Wahyu Fauzan\n"
          ]
        }
      ],
      "source": [
        "# Creating list of labels\n",
        "labels_list = df['Workers']\n",
        "labels_list = list(labels_list)\n",
        "mlb = MultiLabelBinarizer()\n",
        "mlb.fit(labels_list)\n",
        "\n",
        "N_LABELS = len(mlb.classes_)\n",
        "for (i, label) in enumerate(mlb.classes_):\n",
        "    print(\"{}. {}\".format(i, label))"
      ]
    },
    {
      "cell_type": "code",
      "execution_count": null,
      "metadata": {
        "colab": {
          "base_uri": "https://localhost:8080/"
        },
        "id": "5JI6q5hhvsTO",
        "outputId": "2aa661c6-ca40-4d1f-fe69-916fa102cf06"
      },
      "outputs": [
        {
          "output_type": "stream",
          "name": "stdout",
          "text": [
            "902 train examples\n",
            "48 validation examples\n",
            "50 test examples\n"
          ]
        }
      ],
      "source": [
        "# Split the dataframe\n",
        "\n",
        "train, test = train_test_split(df, test_size=0.05)\n",
        "train, val = train_test_split(train, test_size=0.05)\n",
        "print(len(train), 'train examples')\n",
        "print(len(val), 'validation examples')\n",
        "print(len(test), 'test examples')"
      ]
    },
    {
      "cell_type": "code",
      "execution_count": null,
      "metadata": {
        "id": "WWZTnvmzwZJB"
      },
      "outputs": [],
      "source": [
        "# Input panda dataframe into tf.data pipeline\n",
        "\n",
        "mlb = MultiLabelBinarizer()\n",
        "mlb.fit(df['Workers'])\n",
        "\n",
        "def df_to_dataset(dataframe, shuffle=True, batch_size=32):\n",
        "  df = dataframe.copy() # copying the dataframe\n",
        "  labels = df.pop('Workers') # separating the labels\n",
        "\n",
        "  # Fit the multi-label binarizer on the training labels\n",
        "  labels = list(labels)\n",
        "  labels_bin = mlb.transform(labels)\n",
        "  \n",
        "  df = {key: value[:,tf.newaxis] for key, value in df.items()} # x\n",
        "  ds = tf.data.Dataset.from_tensor_slices((dict(df), labels_bin))\n",
        "  \n",
        "  if shuffle:\n",
        "    ds = ds.shuffle(buffer_size=len(dataframe))\n",
        "  ds = ds.batch(batch_size)\n",
        "  ds = ds.prefetch(batch_size)\n",
        "  return ds"
      ]
    },
    {
      "cell_type": "code",
      "execution_count": null,
      "metadata": {
        "id": "il9IVV3a09iT"
      },
      "outputs": [],
      "source": [
        "# Numerical Columns\n",
        "\n",
        "def get_normalization_layer(name, dataset):\n",
        "  # Create a Normalization layer for the feature.\n",
        "  normalizer = layers.Normalization()\n",
        "\n",
        "  # Prepare a Dataset that only yields the feature.\n",
        "  feature_ds = dataset.map(lambda x, y: x[name])\n",
        "  #feature_ds = feature_ds.map(lambda x: tf.expand_dims(x, -1))\n",
        "\n",
        "  # Learn the statistics of the data.\n",
        "  normalizer.adapt(feature_ds)\n",
        "\n",
        "  return normalizer"
      ]
    },
    {
      "cell_type": "code",
      "execution_count": null,
      "metadata": {
        "id": "nxWY6i881GCG"
      },
      "outputs": [],
      "source": [
        "# Categorical Columns\n",
        "\n",
        "def get_category_encoding_layer(name, dataset, dtype, max_tokens=None):\n",
        "  # Create a layer that turns strings into integer indices.\n",
        "  if dtype == 'string':\n",
        "    index = layers.StringLookup(max_tokens=max_tokens)\n",
        "  # Otherwise, create a layer that turns integer values into integer indices.\n",
        "  else:\n",
        "    index = layers.IntegerLookup(max_tokens=max_tokens)\n",
        "\n",
        "  # Prepare a `tf.data.Dataset` that only yields the feature.\n",
        "  feature_ds = dataset.map(lambda x, y: x[name])\n",
        "  #feature_ds = feature_ds.map(lambda x: tf.expand_dims(x, -1))\n",
        "\n",
        "  # Learn the set of possible values and assign them a fixed integer index.\n",
        "  index.adapt(feature_ds)\n",
        "\n",
        "  # Encode the integer indices.\n",
        "  encoder = layers.CategoryEncoding(num_tokens=index.vocabulary_size())\n",
        "\n",
        "  # Apply multi-hot encoding to the indices. The lambda function captures the\n",
        "  # layer, so you can use them, or include them in the Keras Functional model later.\n",
        "  return lambda feature: encoder(index(feature))"
      ]
    },
    {
      "cell_type": "code",
      "execution_count": null,
      "metadata": {
        "colab": {
          "base_uri": "https://localhost:8080/"
        },
        "id": "F2U8HcPl1Wme",
        "outputId": "1ab48ce1-90a8-4bcf-c5d9-20eee90799ef"
      },
      "outputs": [
        {
          "output_type": "stream",
          "name": "stderr",
          "text": [
            "<ipython-input-7-b0f798092395>:14: FutureWarning: Support for multi-dimensional indexing (e.g. `obj[:, None]`) is deprecated and will be removed in a future version.  Convert to a numpy array before indexing instead.\n",
            "  df = {key: value[:,tf.newaxis] for key, value in df.items()} # x\n"
          ]
        }
      ],
      "source": [
        "# Split and preprocess the dataframe\n",
        "\n",
        "batch_size = 10\n",
        "train_ds = df_to_dataset(train, batch_size=batch_size)\n",
        "val_ds = df_to_dataset(val, shuffle=False, batch_size=batch_size)\n",
        "test_ds = df_to_dataset(test, shuffle=False, batch_size=batch_size)"
      ]
    },
    {
      "cell_type": "code",
      "execution_count": null,
      "metadata": {
        "id": "P3AQfcd-1ft1",
        "colab": {
          "base_uri": "https://localhost:8080/"
        },
        "outputId": "ea818d71-e9ff-4ae7-c4ea-f0d3fa1a5c22"
      },
      "outputs": [
        {
          "output_type": "stream",
          "name": "stdout",
          "text": [
            "[<KerasTensor: shape=(None, 1) dtype=float32 (created by layer 'Difficulty')>, <KerasTensor: shape=(None, 1) dtype=string (created by layer 'Topics')>, <KerasTensor: shape=(None, 1) dtype=string (created by layer 'Sub Topic')>, <KerasTensor: shape=(None, 1) dtype=string (created by layer 'Project Type')>]\n",
            "KerasTensor(type_spec=TensorSpec(shape=(None, 1), dtype=tf.string, name='Project Type'), name='Project Type', description=\"created by layer 'Project Type'\")\n",
            "[<KerasTensor: shape=(None, 1) dtype=float32 (created by layer 'Difficulty')>, <KerasTensor: shape=(None, 1) dtype=string (created by layer 'Topics')>, <KerasTensor: shape=(None, 1) dtype=string (created by layer 'Sub Topic')>, <KerasTensor: shape=(None, 1) dtype=string (created by layer 'Project Type')>]\n",
            "KerasTensor(type_spec=TensorSpec(shape=(None, 1), dtype=tf.string, name='Project Type'), name='Project Type', description=\"created by layer 'Project Type'\")\n",
            "[<KerasTensor: shape=(None, 1) dtype=float32 (created by layer 'Difficulty')>, <KerasTensor: shape=(None, 1) dtype=string (created by layer 'Topics')>, <KerasTensor: shape=(None, 1) dtype=string (created by layer 'Sub Topic')>, <KerasTensor: shape=(None, 1) dtype=string (created by layer 'Project Type')>]\n",
            "KerasTensor(type_spec=TensorSpec(shape=(None, 1), dtype=tf.string, name='Project Type'), name='Project Type', description=\"created by layer 'Project Type'\")\n",
            "[<KerasTensor: shape=(None, 1) dtype=float32 (created by layer 'Difficulty')>, <KerasTensor: shape=(None, 1) dtype=string (created by layer 'Topics')>, <KerasTensor: shape=(None, 1) dtype=string (created by layer 'Sub Topic')>, <KerasTensor: shape=(None, 1) dtype=string (created by layer 'Project Type')>]\n",
            "KerasTensor(type_spec=TensorSpec(shape=(None, 1), dtype=tf.string, name='Project Type'), name='Project Type', description=\"created by layer 'Project Type'\")\n"
          ]
        }
      ],
      "source": [
        "all_inputs = []\n",
        "encoded_features = []\n",
        "\n",
        "# Numerical features\n",
        "\n",
        "numeric_cols = ['Difficulty']\n",
        "\n",
        "for header in numeric_cols:\n",
        "  numeric_col = tf.keras.Input(shape=(1,), name=header)\n",
        "  normalization_layer = get_normalization_layer(header, train_ds)\n",
        "  encoded_numeric_col = normalization_layer(numeric_col)\n",
        "  all_inputs.append(numeric_col)\n",
        "  encoded_features.append(encoded_numeric_col)\n",
        "\n",
        "# Categorical features\n",
        "\n",
        "categorical_cols = ['Topics', 'Sub Topic', 'Project Type']\n",
        "\n",
        "for header in categorical_cols:\n",
        "  categorical_col = tf.keras.Input(shape=(1,), name=header, dtype='string')\n",
        "  encoding_layer = get_category_encoding_layer(name=header,\n",
        "                                               dataset=train_ds,\n",
        "                                               dtype='string')\n",
        "  encoded_categorical_col = encoding_layer(categorical_col)\n",
        "  all_inputs.append(categorical_col)\n",
        "  encoded_features.append(encoded_categorical_col)\n"
      ]
    },
    {
      "cell_type": "code",
      "source": [
        "\n",
        "# list of numbers\n",
        "numbers = numeric_cols\n",
        " \n",
        "# find the size of the list\n",
        "size = sum(1 for num in numbers)\n",
        " \n",
        "# print the size of the list\n",
        "print(size)"
      ],
      "metadata": {
        "colab": {
          "base_uri": "https://localhost:8080/"
        },
        "id": "gT7_pBZiNvGM",
        "outputId": "fe6e58c5-f47f-4a9a-f0e1-34c7cbff45ad"
      },
      "execution_count": null,
      "outputs": [
        {
          "output_type": "stream",
          "name": "stdout",
          "text": [
            "1\n"
          ]
        }
      ]
    },
    {
      "cell_type": "code",
      "execution_count": null,
      "metadata": {
        "id": "8tHatKs92s7Q"
      },
      "outputs": [],
      "source": [
        "# Creating the model\n",
        "\n",
        "all_features = tf.keras.layers.concatenate(encoded_features)\n",
        "x = tf.keras.layers.Dense(1028, activation=\"relu\")(all_features)\n",
        "#x = tf.keras.layers.Dense(50, activation='relu')(x)\n",
        "#x = tf.keras.layers.Dense(128, activation='relu')(x)\n",
        "output = tf.keras.layers.Dense(N_LABELS, activation='sigmoid')(x)\n",
        "\n",
        "model = tf.keras.Model(all_inputs, output)\n",
        "\n",
        "opt = tf.keras.optimizers.Adam(learning_rate=0.01)\n",
        "\n",
        "model.compile(optimizer=opt,\n",
        "              loss='binary_crossentropy',\n",
        "              metrics=[\"accuracy\"])"
      ]
    },
    {
      "cell_type": "code",
      "execution_count": null,
      "metadata": {
        "id": "Nul1IkOSbvGA",
        "colab": {
          "base_uri": "https://localhost:8080/",
          "height": 53
        },
        "outputId": "71783a9d-53cf-4a88-c058-04db0191db78"
      },
      "outputs": [
        {
          "output_type": "execute_result",
          "data": {
            "text/plain": [
              "\"all_features = tf.keras.layers.concatenate(encoded_features)\\n\\nmodel = tf.keras.Sequential([\\n    all_features,\\n    layers.Dense(100, activation='relu'),\\n    layers.Dense(50, activation='relu'),\\n    layers.Dense(N_LABELS, activation='linear')\\n    \\n])\\nmodel.summary\""
            ],
            "application/vnd.google.colaboratory.intrinsic+json": {
              "type": "string"
            }
          },
          "metadata": {},
          "execution_count": 13
        }
      ],
      "source": [
        "\"\"\"all_features = tf.keras.layers.concatenate(encoded_features)\n",
        "\n",
        "model = tf.keras.Sequential([\n",
        "    all_features,\n",
        "    layers.Dense(100, activation='relu'),\n",
        "    layers.Dense(50, activation='relu'),\n",
        "    layers.Dense(N_LABELS, activation='linear')\n",
        "    \n",
        "])\n",
        "model.summary\"\"\""
      ]
    },
    {
      "cell_type": "code",
      "execution_count": null,
      "metadata": {
        "id": "hNa1pzSq3u3V",
        "colab": {
          "base_uri": "https://localhost:8080/"
        },
        "outputId": "8101c6fe-ff43-41ce-aba4-78a02037a73b"
      },
      "outputs": [
        {
          "output_type": "stream",
          "name": "stdout",
          "text": [
            "Epoch 1/100\n",
            "91/91 [==============================] - 5s 24ms/step - loss: 0.1886 - accuracy: 0.1674 - val_loss: 0.1361 - val_accuracy: 0.2494\n",
            "Epoch 2/100\n",
            "91/91 [==============================] - 1s 15ms/step - loss: 0.1466 - accuracy: 0.1996 - val_loss: 0.1361 - val_accuracy: 0.2949\n",
            "Epoch 3/100\n",
            "91/91 [==============================] - 1s 12ms/step - loss: 0.1417 - accuracy: 0.2228 - val_loss: 0.1351 - val_accuracy: 0.1175\n",
            "Epoch 4/100\n",
            "91/91 [==============================] - 1s 12ms/step - loss: 0.1374 - accuracy: 0.1508 - val_loss: 0.1271 - val_accuracy: 0.1519\n",
            "Epoch 5/100\n",
            "91/91 [==============================] - 1s 9ms/step - loss: 0.1323 - accuracy: 0.1541 - val_loss: 0.1266 - val_accuracy: 0.1386\n",
            "Epoch 6/100\n",
            "91/91 [==============================] - 1s 8ms/step - loss: 0.1315 - accuracy: 0.1463 - val_loss: 0.1236 - val_accuracy: 0.1231\n",
            "Epoch 7/100\n",
            "91/91 [==============================] - 1s 6ms/step - loss: 0.1292 - accuracy: 0.1508 - val_loss: 0.1219 - val_accuracy: 0.1929\n",
            "Epoch 8/100\n",
            "91/91 [==============================] - 1s 8ms/step - loss: 0.1278 - accuracy: 0.1685 - val_loss: 0.1212 - val_accuracy: 0.1397\n",
            "Epoch 9/100\n",
            "91/91 [==============================] - 1s 14ms/step - loss: 0.1261 - accuracy: 0.1463 - val_loss: 0.1207 - val_accuracy: 0.2007\n",
            "Epoch 10/100\n",
            "91/91 [==============================] - 1s 9ms/step - loss: 0.1266 - accuracy: 0.1364 - val_loss: 0.1203 - val_accuracy: 0.1763\n",
            "Epoch 11/100\n",
            "91/91 [==============================] - 1s 12ms/step - loss: 0.1255 - accuracy: 0.1929 - val_loss: 0.1179 - val_accuracy: 0.1341\n",
            "Epoch 12/100\n",
            "91/91 [==============================] - 1s 7ms/step - loss: 0.1233 - accuracy: 0.1452 - val_loss: 0.1183 - val_accuracy: 0.1408\n",
            "Epoch 13/100\n",
            "91/91 [==============================] - 1s 15ms/step - loss: 0.1237 - accuracy: 0.1641 - val_loss: 0.1177 - val_accuracy: 0.1508\n",
            "Epoch 14/100\n",
            "91/91 [==============================] - 2s 17ms/step - loss: 0.1220 - accuracy: 0.1596 - val_loss: 0.1171 - val_accuracy: 0.1430\n",
            "Epoch 15/100\n",
            "91/91 [==============================] - 0s 4ms/step - loss: 0.1221 - accuracy: 0.1774 - val_loss: 0.1157 - val_accuracy: 0.1519\n",
            "Epoch 16/100\n",
            "91/91 [==============================] - 0s 4ms/step - loss: 0.1204 - accuracy: 0.1940 - val_loss: 0.1154 - val_accuracy: 0.1319\n",
            "Epoch 17/100\n",
            "91/91 [==============================] - 0s 4ms/step - loss: 0.1205 - accuracy: 0.1718 - val_loss: 0.1145 - val_accuracy: 0.1419\n",
            "Epoch 18/100\n",
            "91/91 [==============================] - 0s 4ms/step - loss: 0.1193 - accuracy: 0.1375 - val_loss: 0.1147 - val_accuracy: 0.1386\n",
            "Epoch 19/100\n",
            "91/91 [==============================] - 0s 5ms/step - loss: 0.1206 - accuracy: 0.1364 - val_loss: 0.1140 - val_accuracy: 0.1563\n",
            "Epoch 20/100\n",
            "91/91 [==============================] - 0s 4ms/step - loss: 0.1186 - accuracy: 0.1707 - val_loss: 0.1136 - val_accuracy: 0.1452\n",
            "Epoch 21/100\n",
            "91/91 [==============================] - 0s 4ms/step - loss: 0.1183 - accuracy: 0.1608 - val_loss: 0.1131 - val_accuracy: 0.1341\n",
            "Epoch 22/100\n",
            "91/91 [==============================] - 0s 4ms/step - loss: 0.1176 - accuracy: 0.1519 - val_loss: 0.1141 - val_accuracy: 0.1530\n",
            "Epoch 23/100\n",
            "91/91 [==============================] - 0s 4ms/step - loss: 0.1180 - accuracy: 0.1630 - val_loss: 0.1124 - val_accuracy: 0.1530\n",
            "Epoch 24/100\n",
            "91/91 [==============================] - 0s 4ms/step - loss: 0.1172 - accuracy: 0.1486 - val_loss: 0.1123 - val_accuracy: 0.1319\n",
            "Epoch 25/100\n",
            "91/91 [==============================] - 0s 4ms/step - loss: 0.1172 - accuracy: 0.1774 - val_loss: 0.1122 - val_accuracy: 0.1962\n",
            "Epoch 26/100\n",
            "91/91 [==============================] - 0s 4ms/step - loss: 0.1161 - accuracy: 0.1796 - val_loss: 0.1110 - val_accuracy: 0.2905\n",
            "Epoch 27/100\n",
            "91/91 [==============================] - 0s 4ms/step - loss: 0.1159 - accuracy: 0.1874 - val_loss: 0.1111 - val_accuracy: 0.1896\n",
            "Epoch 28/100\n",
            "91/91 [==============================] - 0s 4ms/step - loss: 0.1152 - accuracy: 0.2029 - val_loss: 0.1101 - val_accuracy: 0.1486\n",
            "Epoch 29/100\n",
            "91/91 [==============================] - 0s 4ms/step - loss: 0.1153 - accuracy: 0.1608 - val_loss: 0.1106 - val_accuracy: 0.1674\n",
            "Epoch 30/100\n",
            "91/91 [==============================] - 0s 4ms/step - loss: 0.1150 - accuracy: 0.1851 - val_loss: 0.1099 - val_accuracy: 0.2905\n",
            "Epoch 31/100\n",
            "91/91 [==============================] - 0s 4ms/step - loss: 0.1145 - accuracy: 0.2539 - val_loss: 0.1102 - val_accuracy: 0.2251\n",
            "Epoch 32/100\n",
            "91/91 [==============================] - 1s 7ms/step - loss: 0.1148 - accuracy: 0.1962 - val_loss: 0.1100 - val_accuracy: 0.1763\n",
            "Epoch 33/100\n",
            "91/91 [==============================] - 1s 7ms/step - loss: 0.1142 - accuracy: 0.1608 - val_loss: 0.1096 - val_accuracy: 0.1563\n",
            "Epoch 34/100\n",
            "91/91 [==============================] - 1s 7ms/step - loss: 0.1140 - accuracy: 0.1530 - val_loss: 0.1096 - val_accuracy: 0.1530\n",
            "Epoch 35/100\n",
            "91/91 [==============================] - 0s 4ms/step - loss: 0.1141 - accuracy: 0.1463 - val_loss: 0.1087 - val_accuracy: 0.1419\n",
            "Epoch 36/100\n",
            "91/91 [==============================] - 0s 4ms/step - loss: 0.1132 - accuracy: 0.1419 - val_loss: 0.1087 - val_accuracy: 0.1463\n",
            "Epoch 37/100\n",
            "91/91 [==============================] - 0s 4ms/step - loss: 0.1135 - accuracy: 0.1541 - val_loss: 0.1096 - val_accuracy: 0.1552\n",
            "Epoch 38/100\n",
            "91/91 [==============================] - 0s 4ms/step - loss: 0.1131 - accuracy: 0.1608 - val_loss: 0.1095 - val_accuracy: 0.1630\n",
            "Epoch 39/100\n",
            "91/91 [==============================] - 0s 4ms/step - loss: 0.1130 - accuracy: 0.1596 - val_loss: 0.1096 - val_accuracy: 0.1596\n",
            "Epoch 40/100\n",
            "91/91 [==============================] - 0s 4ms/step - loss: 0.1130 - accuracy: 0.1475 - val_loss: 0.1081 - val_accuracy: 0.1408\n",
            "Epoch 41/100\n",
            "91/91 [==============================] - 0s 4ms/step - loss: 0.1128 - accuracy: 0.1463 - val_loss: 0.1079 - val_accuracy: 0.1397\n",
            "Epoch 42/100\n",
            "91/91 [==============================] - 0s 4ms/step - loss: 0.1127 - accuracy: 0.1397 - val_loss: 0.1077 - val_accuracy: 0.1341\n",
            "Epoch 43/100\n",
            "91/91 [==============================] - 0s 4ms/step - loss: 0.1117 - accuracy: 0.1408 - val_loss: 0.1067 - val_accuracy: 0.1341\n",
            "Epoch 44/100\n",
            "91/91 [==============================] - 0s 4ms/step - loss: 0.1120 - accuracy: 0.1452 - val_loss: 0.1072 - val_accuracy: 0.1364\n",
            "Epoch 45/100\n",
            "91/91 [==============================] - 0s 4ms/step - loss: 0.1124 - accuracy: 0.1308 - val_loss: 0.1072 - val_accuracy: 0.1397\n",
            "Epoch 46/100\n",
            "91/91 [==============================] - 0s 4ms/step - loss: 0.1116 - accuracy: 0.1408 - val_loss: 0.1070 - val_accuracy: 0.1375\n",
            "Epoch 47/100\n",
            "91/91 [==============================] - 0s 4ms/step - loss: 0.1117 - accuracy: 0.1419 - val_loss: 0.1070 - val_accuracy: 0.1375\n",
            "Epoch 48/100\n",
            "91/91 [==============================] - 0s 4ms/step - loss: 0.1114 - accuracy: 0.1397 - val_loss: 0.1075 - val_accuracy: 0.1330\n",
            "Epoch 49/100\n",
            "91/91 [==============================] - 0s 4ms/step - loss: 0.1111 - accuracy: 0.1419 - val_loss: 0.1065 - val_accuracy: 0.1364\n",
            "Epoch 50/100\n",
            "91/91 [==============================] - 0s 4ms/step - loss: 0.1112 - accuracy: 0.1408 - val_loss: 0.1059 - val_accuracy: 0.1475\n",
            "Epoch 51/100\n",
            "91/91 [==============================] - 0s 4ms/step - loss: 0.1108 - accuracy: 0.1375 - val_loss: 0.1058 - val_accuracy: 0.1275\n",
            "Epoch 52/100\n",
            "91/91 [==============================] - 0s 4ms/step - loss: 0.1114 - accuracy: 0.1441 - val_loss: 0.1062 - val_accuracy: 0.2262\n",
            "Epoch 53/100\n",
            "91/91 [==============================] - 1s 7ms/step - loss: 0.1110 - accuracy: 0.2162 - val_loss: 0.1055 - val_accuracy: 0.2273\n",
            "Epoch 54/100\n",
            "91/91 [==============================] - 1s 6ms/step - loss: 0.1101 - accuracy: 0.2173 - val_loss: 0.1060 - val_accuracy: 0.2051\n",
            "Epoch 55/100\n",
            "91/91 [==============================] - 1s 6ms/step - loss: 0.1102 - accuracy: 0.2062 - val_loss: 0.1063 - val_accuracy: 0.2140\n",
            "Epoch 56/100\n",
            "91/91 [==============================] - 0s 4ms/step - loss: 0.1102 - accuracy: 0.2195 - val_loss: 0.1057 - val_accuracy: 0.2173\n",
            "Epoch 57/100\n",
            "91/91 [==============================] - 0s 4ms/step - loss: 0.1099 - accuracy: 0.2251 - val_loss: 0.1051 - val_accuracy: 0.2040\n",
            "Epoch 58/100\n",
            "91/91 [==============================] - 0s 4ms/step - loss: 0.1096 - accuracy: 0.1829 - val_loss: 0.1053 - val_accuracy: 0.1364\n",
            "Epoch 59/100\n",
            "91/91 [==============================] - 0s 4ms/step - loss: 0.1096 - accuracy: 0.1341 - val_loss: 0.1047 - val_accuracy: 0.1353\n",
            "Epoch 60/100\n",
            "91/91 [==============================] - 0s 4ms/step - loss: 0.1094 - accuracy: 0.1341 - val_loss: 0.1053 - val_accuracy: 0.1519\n",
            "Epoch 61/100\n",
            "91/91 [==============================] - 0s 4ms/step - loss: 0.1093 - accuracy: 0.1574 - val_loss: 0.1056 - val_accuracy: 0.2084\n",
            "Epoch 62/100\n",
            "91/91 [==============================] - 0s 4ms/step - loss: 0.1095 - accuracy: 0.1807 - val_loss: 0.1056 - val_accuracy: 0.1508\n",
            "Epoch 63/100\n",
            "91/91 [==============================] - 0s 4ms/step - loss: 0.1092 - accuracy: 0.1973 - val_loss: 0.1048 - val_accuracy: 0.2195\n",
            "Epoch 64/100\n",
            "91/91 [==============================] - 0s 5ms/step - loss: 0.1091 - accuracy: 0.2129 - val_loss: 0.1038 - val_accuracy: 0.2262\n",
            "Epoch 65/100\n",
            "91/91 [==============================] - 0s 4ms/step - loss: 0.1088 - accuracy: 0.2084 - val_loss: 0.1045 - val_accuracy: 0.1652\n",
            "Epoch 66/100\n",
            "91/91 [==============================] - 0s 4ms/step - loss: 0.1085 - accuracy: 0.1752 - val_loss: 0.1043 - val_accuracy: 0.2018\n",
            "Epoch 67/100\n",
            "91/91 [==============================] - 0s 4ms/step - loss: 0.1085 - accuracy: 0.1929 - val_loss: 0.1046 - val_accuracy: 0.1996\n",
            "Epoch 68/100\n",
            "91/91 [==============================] - 0s 4ms/step - loss: 0.1096 - accuracy: 0.1907 - val_loss: 0.1039 - val_accuracy: 0.1508\n",
            "Epoch 69/100\n",
            "91/91 [==============================] - 0s 4ms/step - loss: 0.1083 - accuracy: 0.1585 - val_loss: 0.1045 - val_accuracy: 0.1486\n",
            "Epoch 70/100\n",
            "91/91 [==============================] - 0s 4ms/step - loss: 0.1088 - accuracy: 0.1530 - val_loss: 0.1035 - val_accuracy: 0.1929\n",
            "Epoch 71/100\n",
            "91/91 [==============================] - 0s 4ms/step - loss: 0.1077 - accuracy: 0.2173 - val_loss: 0.1037 - val_accuracy: 0.2007\n",
            "Epoch 72/100\n",
            "91/91 [==============================] - 0s 4ms/step - loss: 0.1080 - accuracy: 0.2129 - val_loss: 0.1030 - val_accuracy: 0.2251\n",
            "Epoch 73/100\n",
            "91/91 [==============================] - 0s 4ms/step - loss: 0.1075 - accuracy: 0.2184 - val_loss: 0.1038 - val_accuracy: 0.1907\n",
            "Epoch 74/100\n",
            "91/91 [==============================] - 0s 4ms/step - loss: 0.1082 - accuracy: 0.1818 - val_loss: 0.1046 - val_accuracy: 0.1308\n",
            "Epoch 75/100\n",
            "91/91 [==============================] - 1s 6ms/step - loss: 0.1080 - accuracy: 0.1552 - val_loss: 0.1032 - val_accuracy: 0.1807\n",
            "Epoch 76/100\n",
            "91/91 [==============================] - 1s 8ms/step - loss: 0.1077 - accuracy: 0.1574 - val_loss: 0.1040 - val_accuracy: 0.1619\n",
            "Epoch 77/100\n",
            "91/91 [==============================] - 1s 6ms/step - loss: 0.1079 - accuracy: 0.1563 - val_loss: 0.1033 - val_accuracy: 0.1497\n",
            "Epoch 78/100\n",
            "91/91 [==============================] - 0s 4ms/step - loss: 0.1069 - accuracy: 0.1408 - val_loss: 0.1030 - val_accuracy: 0.1386\n",
            "Epoch 79/100\n",
            "91/91 [==============================] - 0s 4ms/step - loss: 0.1072 - accuracy: 0.1463 - val_loss: 0.1031 - val_accuracy: 0.1497\n",
            "Epoch 80/100\n",
            "91/91 [==============================] - 0s 4ms/step - loss: 0.1077 - accuracy: 0.1497 - val_loss: 0.1033 - val_accuracy: 0.1452\n",
            "Epoch 81/100\n",
            "91/91 [==============================] - 0s 4ms/step - loss: 0.1076 - accuracy: 0.1430 - val_loss: 0.1034 - val_accuracy: 0.1408\n",
            "Epoch 82/100\n",
            "91/91 [==============================] - 0s 4ms/step - loss: 0.1077 - accuracy: 0.1430 - val_loss: 0.1031 - val_accuracy: 0.1497\n",
            "Epoch 83/100\n",
            "91/91 [==============================] - 0s 4ms/step - loss: 0.1072 - accuracy: 0.1364 - val_loss: 0.1028 - val_accuracy: 0.1386\n",
            "Epoch 84/100\n",
            "91/91 [==============================] - 0s 4ms/step - loss: 0.1072 - accuracy: 0.1430 - val_loss: 0.1031 - val_accuracy: 0.1463\n",
            "Epoch 85/100\n",
            "91/91 [==============================] - 0s 4ms/step - loss: 0.1076 - accuracy: 0.1419 - val_loss: 0.1028 - val_accuracy: 0.1386\n",
            "Epoch 86/100\n",
            "91/91 [==============================] - 0s 4ms/step - loss: 0.1070 - accuracy: 0.1408 - val_loss: 0.1034 - val_accuracy: 0.1341\n",
            "Epoch 87/100\n",
            "91/91 [==============================] - 0s 4ms/step - loss: 0.1071 - accuracy: 0.1364 - val_loss: 0.1033 - val_accuracy: 0.1353\n",
            "Epoch 88/100\n",
            "91/91 [==============================] - 0s 4ms/step - loss: 0.1069 - accuracy: 0.1275 - val_loss: 0.1028 - val_accuracy: 0.1242\n",
            "Epoch 89/100\n",
            "91/91 [==============================] - 0s 4ms/step - loss: 0.1078 - accuracy: 0.1275 - val_loss: 0.1029 - val_accuracy: 0.1220\n",
            "Epoch 90/100\n",
            "91/91 [==============================] - 0s 4ms/step - loss: 0.1073 - accuracy: 0.1242 - val_loss: 0.1024 - val_accuracy: 0.1319\n",
            "Epoch 91/100\n",
            "91/91 [==============================] - 0s 4ms/step - loss: 0.1067 - accuracy: 0.1341 - val_loss: 0.1021 - val_accuracy: 0.1275\n",
            "Epoch 92/100\n",
            "91/91 [==============================] - 0s 4ms/step - loss: 0.1064 - accuracy: 0.1430 - val_loss: 0.1022 - val_accuracy: 0.1353\n",
            "Epoch 93/100\n",
            "91/91 [==============================] - 0s 4ms/step - loss: 0.1068 - accuracy: 0.1430 - val_loss: 0.1026 - val_accuracy: 0.1375\n",
            "Epoch 94/100\n",
            "91/91 [==============================] - 0s 4ms/step - loss: 0.1062 - accuracy: 0.1364 - val_loss: 0.1015 - val_accuracy: 0.1408\n",
            "Epoch 95/100\n",
            "91/91 [==============================] - 0s 4ms/step - loss: 0.1055 - accuracy: 0.1452 - val_loss: 0.1013 - val_accuracy: 0.1286\n",
            "Epoch 96/100\n",
            "91/91 [==============================] - 0s 4ms/step - loss: 0.1058 - accuracy: 0.1353 - val_loss: 0.1025 - val_accuracy: 0.1397\n",
            "Epoch 97/100\n",
            "91/91 [==============================] - 1s 8ms/step - loss: 0.1067 - accuracy: 0.1353 - val_loss: 0.1022 - val_accuracy: 0.1441\n",
            "Epoch 98/100\n",
            "91/91 [==============================] - 1s 7ms/step - loss: 0.1059 - accuracy: 0.1341 - val_loss: 0.1012 - val_accuracy: 0.1397\n",
            "Epoch 99/100\n",
            "91/91 [==============================] - 0s 3ms/step - loss: 0.1055 - accuracy: 0.1430 - val_loss: 0.1012 - val_accuracy: 0.1475\n",
            "Epoch 100/100\n",
            "91/91 [==============================] - 0s 4ms/step - loss: 0.1066 - accuracy: 0.1430 - val_loss: 0.1015 - val_accuracy: 0.1308\n"
          ]
        },
        {
          "output_type": "execute_result",
          "data": {
            "text/plain": [
              "<keras.callbacks.History at 0x7fa964433610>"
            ]
          },
          "metadata": {},
          "execution_count": 14
        }
      ],
      "source": [
        "# Training the model\n",
        "\n",
        "model.fit(train_ds, epochs=100, validation_data=val_ds)"
      ]
    },
    {
      "cell_type": "code",
      "execution_count": null,
      "metadata": {
        "id": "b-EV9MVEBRBI",
        "colab": {
          "base_uri": "https://localhost:8080/"
        },
        "outputId": "655341c3-2c22-46af-bd8c-0afbb477e6ae"
      },
      "outputs": [
        {
          "output_type": "stream",
          "name": "stdout",
          "text": [
            "5/5 [==============================] - 0s 3ms/step - loss: 0.2122 - accuracy: 0.0800\n",
            "Accuracy:  0.07999999821186066\n"
          ]
        }
      ],
      "source": [
        "# Evaluate the model's accuracy\n",
        "\n",
        "loss, accuracy = model.evaluate(test_ds)\n",
        "print(\"Accuracy: \", accuracy)"
      ]
    },
    {
      "cell_type": "code",
      "source": [],
      "metadata": {
        "id": "5oz5GXj-qQk9"
      },
      "execution_count": null,
      "outputs": []
    }
  ],
  "metadata": {
    "colab": {
      "provenance": [],
      "include_colab_link": true
    },
    "kernelspec": {
      "display_name": "Python 3",
      "name": "python3"
    },
    "language_info": {
      "name": "python"
    }
  },
  "nbformat": 4,
  "nbformat_minor": 0
}